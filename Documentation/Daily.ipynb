{
 "cells": [
  {
   "cell_type": "code",
   "execution_count": null,
   "metadata": {
    "vscode": {
     "languageId": "plaintext"
    }
   },
   "outputs": [],
   "source": [
    "*2025-03-19*\n",
    "\n",
    "- Worked on google drive file to restructure table and analysing data and format, we chose possible titles,\n",
    "analyzed data types and info from the values.\n",
    "- Started drafting database based on categories\n",
    "\n",
    "Google drive link: https://docs.google.com/spreadsheets/d/1Jnf30O-SpXRdOcCCT1Z9rneraKTSW3ODdJ9a1YamDSo/edit?usp=sharing\n",
    "\n",
    "\n",
    "COMMENTS:\n",
    "ask Cesar: Can we elect if dist_home is miles or km or this is uncertain\n"
   ]
  },
  {
   "cell_type": "markdown",
   "metadata": {},
   "source": [
    "*2025-03-18*\n",
    "\n",
    "- *Scrum Master*: Marina\n",
    "\n",
    "- *Team*: Beatriz, Cibi, Sandra\n",
    "- *Working table*: Slack\n",
    "\n",
    "Decided: Code will be in english \n",
    "\n",
    "#### PROJECT DETAILS:\n",
    "\n",
    "WHAT: Reduce employee rotation\n",
    "HOW: identify the factor that are impacting on employee's satisfaction, and then, the client retention \n",
    "\n",
    "\n",
    "CLIENT: ABC -  California 1980 - Process optimization for business\n",
    "\n"
   ]
  }
 ],
 "metadata": {
  "language_info": {
   "name": "python"
  }
 },
 "nbformat": 4,
 "nbformat_minor": 2
}
