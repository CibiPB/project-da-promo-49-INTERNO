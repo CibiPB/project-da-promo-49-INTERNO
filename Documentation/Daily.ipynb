{
 "cells": [
  {
   "cell_type": "markdown",
   "metadata": {},
   "source": [
    "*2025-03-24*\n",
    "- Rename the columns with new names\n",
    "- Check if the column role_department is equal to the column job_position and department: delete it because it is the same\n",
    "- Pending: reorder the columns, check Cibi list in SRC\n"
   ]
  },
  {
   "cell_type": "markdown",
   "metadata": {},
   "source": [
    "*2025-03-21*\n",
    "- We have removed the duplicates of employee number\n",
    "- We have put employee Number as index\n",
    "- We have removed employeecount, NUMBERCHILDREN, Over18, Sameasmonthlyincome\n",
    "- To do for next day: We are renaming the columns with the ‘new_title’ we defined in Excel."
   ]
  },
  {
   "cell_type": "markdown",
   "metadata": {},
   "source": [
    "*2025-03-20* \n",
    "\n",
    "COMMENTS TO ASK CESAR - ANSWERS ARE IN CAPITAL LETTER:\n",
    "\n",
    "\n",
    "*Can we elect if dist_home is miles or km or this is uncertain and negative data* : MILLAS + ERROR BUSCAR INFO SOBRE NEGATIVOS - HINT:RANGE\n",
    "*Note after fase 5 in instructions, confirm if all project or fase 5 only to be delivered in .py* - SE REFERE FASE 5\n",
    "*Gender* = What is 1 and what is 2?: 0 MALE/ 1 FEMALE\n",
    "*Attrition* = is this a terminated employee? TERMINATED/ ACTIVE\n",
    "*Scale for*: seach in excel for: 'scale?' NUMEROS BAJOS ARE LESS RATED, AND HGHTER ARE BETTER HATTED\n",
    "*Overtime*: if employee is available to work OT or if employee has worked OT: AVAILABILITY\n",
    "*salary hike*: INCREASE ANNUAL IS CONFIRMED"
   ]
  },
  {
   "cell_type": "markdown",
   "metadata": {},
   "source": [
    "*2025-03-19*\n",
    "\n",
    "- Worked on google drive file to restructure table and analysing data and format, we chose possible titles,\n",
    "analyzed data types and info from the values.\n",
    "- Started drafting database based on categories\n",
    "\n",
    "Google drive link: https://docs.google.com/spreadsheets/d/1Jnf30O-SpXRdOcCCT1Z9rneraKTSW3ODdJ9a1YamDSo/edit?usp=sharing\n",
    "\n",
    "\n",
    "COMMENTS TO ASK CESAR:\n",
    "Can we elect if dist_home is miles or km or this is uncertain"
   ]
  },
  {
   "cell_type": "markdown",
   "metadata": {},
   "source": [
    "*2025-03-18*\n",
    "\n",
    "- *Scrum Master*: Marina\n",
    "\n",
    "- *Team*: Beatriz, Cibi, Sandra\n",
    "- *Working table*: Slack\n",
    "\n",
    "Decided: Code will be in english \n",
    "\n",
    "#### PROJECT DETAILS:\n",
    "\n",
    "WHAT: Reduce employee rotation\n",
    "HOW: identify the factor that are impacting on employee's satisfaction, and then, the client retention \n",
    "\n",
    "\n",
    "CLIENT: ABC -  California 1980 - Process optimization for business\n",
    "\n"
   ]
  }
 ],
 "metadata": {
  "kernelspec": {
   "display_name": "promo49",
   "language": "python",
   "name": "python3"
  },
  "language_info": {
   "name": "python",
   "version": "3.11.11"
  }
 },
 "nbformat": 4,
 "nbformat_minor": 2
}
