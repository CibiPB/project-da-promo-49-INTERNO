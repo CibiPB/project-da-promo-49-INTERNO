{
 "cells": [
  {
   "cell_type": "code",
   "execution_count": null,
   "metadata": {
    "vscode": {
     "languageId": "plaintext"
    }
   },
   "outputs": [],
   "source": [
    "*2025-03-19*"
   ]
  },
  {
   "cell_type": "markdown",
   "metadata": {},
   "source": [
    "*2025-03-18*\n",
    "\n",
    "- *Scrum Master*: Marina\n",
    "\n",
    "- *Team*: Beatriz, Cibi, Sandra\n",
    "- *Working table*: Slack\n",
    "\n",
    "Decided: Code will be in english \n",
    "\n",
    "#### PROJECT DETAILS:\n",
    "\n",
    "WHAT: Reduce employee rotation\n",
    "HOW: identify the factor that are impacting on employee's satisfaction, and then, the client retention \n",
    "\n",
    "\n",
    "CLIENT: ABC -  California 1980 - Process optimization for business\n",
    "\n"
   ]
  }
 ],
 "metadata": {
  "language_info": {
   "name": "python"
  }
 },
 "nbformat": 4,
 "nbformat_minor": 2
}
