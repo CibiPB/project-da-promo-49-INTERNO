{
 "cells": [
  {
   "cell_type": "code",
   "execution_count": 50,
   "metadata": {},
   "outputs": [],
   "source": [
    "import mysql.connector\n",
    "from mysql.connector import errorcode\n",
    "import pandas as pd\n",
    "import numpy as np\n"
   ]
  },
  {
   "cell_type": "code",
   "execution_count": 51,
   "metadata": {},
   "outputs": [],
   "source": [
    "df = pd.read_csv(\"hr_raw_data_v2.csv\", index_col=0)"
   ]
  },
  {
   "cell_type": "code",
   "execution_count": 52,
   "metadata": {},
   "outputs": [],
   "source": [
    "cnx = mysql.connector.connect(user='root', password='AlumnaAdalab',\n",
    "host='127.0.0.1',\n",
    "auth_plugin ='mysql_native_password')\n",
    "mycursor = cnx.cursor()"
   ]
  },
  {
   "cell_type": "code",
   "execution_count": 53,
   "metadata": {},
   "outputs": [],
   "source": [
    "mycursor.execute(\"CREATE DATABASE ABC_Corporation\")"
   ]
  },
  {
   "cell_type": "code",
   "execution_count": 54,
   "metadata": {},
   "outputs": [],
   "source": [
    "mycursor.execute(\"USE ABC_Corporation\")"
   ]
  },
  {
   "cell_type": "code",
   "execution_count": 55,
   "metadata": {},
   "outputs": [],
   "source": [
    "cnx.close()"
   ]
  },
  {
   "cell_type": "code",
   "execution_count": 56,
   "metadata": {},
   "outputs": [],
   "source": [
    "cnx = mysql.connector.connect(user='root', password='AlumnaAdalab', \n",
    "host='127.0.0.1', \n",
    "database='abc_corporation', \n",
    "auth_plugin ='mysql_native_password')"
   ]
  },
  {
   "cell_type": "code",
   "execution_count": 57,
   "metadata": {},
   "outputs": [],
   "source": [
    "mycursor = cnx.cursor()"
   ]
  },
  {
   "cell_type": "code",
   "execution_count": 58,
   "metadata": {},
   "outputs": [],
   "source": [
    "query = \"\"\"INSERT INTO EmployeeInfo ('employee_number', 'gender', 'birth_year', 'age', 'marital_status',\n",
    "       'dist_home', 'job_title', 'department', 'departured', 'year_at_comp',\n",
    "       'standard_hours', 'remote', 'business_travel', 'over_time', 'job_level',\n",
    "       'stock_opt_level', 'traning_times_last_year', 'perf_rate',\n",
    "       'year_last_promotion', 'year_current_mngr', 'education_field',\n",
    "       'education_scale', 'annual_salary', 'monthly_income', 'daily_rate',\n",
    "       'perc_salary_hike', 'env_sat_rate', 'job_involvement', 'job_sat_rate',\n",
    "       'relationship_sat_rate', 'work_life_balance', 'num_comp_worked',\n",
    "       'tot_working_year') VALUES ('%s, %s, %s, %s, %s, %s, %s, %s, %s, %s, %s, %s, %s, %s, %s, %s, %s, %s, %s, %s, %s, %s, %s, %s, %s, %s, %s, %s, %s, %s, %s, %s, %s)\"\"\" \n"
   ]
  },
  {
   "cell_type": "code",
   "execution_count": 59,
   "metadata": {},
   "outputs": [],
   "source": [
    "lista_de_tuplas = [tuple(row) for row in df.to_records(index=False)]"
   ]
  },
  {
   "cell_type": "code",
   "execution_count": 60,
   "metadata": {},
   "outputs": [],
   "source": [
    "mycursor.execute(\"\"\"CREATE TABLE EmployeeInfo(\n",
    "  employee_number BIGINT NOT NULL,\n",
    "  gender ENUM('M', 'F') NULL,\n",
    "  birth_year BIGINT NULL,\n",
    "  age FLOAT NULL,\n",
    "  marital_status ENUM('Single', 'Divorced', 'Married', 'Unknown') NULL,\n",
    "  dist_home BIGINT NULL,\n",
    "  job_title VARCHAR(50) NULL,\n",
    "  department VARCHAR(50) NULL,\n",
    "  departured ENUM('Yes', 'No') NULL,\n",
    "  year_at_comp BIGINT NULL,\n",
    "  standard_hours VARCHAR(45) NULL,\n",
    "  remote ENUM('Yes', 'No') NULL,\n",
    "  business_travel ENUM('Unknown', 'travel_rarely', 'travel_frequently', 'non-travel') NULL,\n",
    "  over_time ENUM('Yes', 'No', 'Unknown') NULL,\n",
    "  job_level BIGINT NULL,\n",
    "  stock_opt_level BIGINT NULL,\n",
    "  traning_times_last_year BIGINT NULL,\n",
    "  perf_rate FLOAT NULL,\n",
    "  year_last_promotion BIGINT NULL,\n",
    "  year_current_mngr BIGINT NULL,\n",
    "  education_field VARCHAR(45) NULL,\n",
    "  education_scale BIGINT NULL,\n",
    "  annual_salary FLOAT NOT NULL,\n",
    "  monthly_income FLOAT NULL,\n",
    "  daily_rate FLOAT NULL,\n",
    "  perc_salary_hike BIGINT NULL,\n",
    "  env_sat_rate BIGINT NULL,\n",
    "  job_involvement BIGINT NULL,\n",
    "  job_sat_rate BIGINT NULL,\n",
    "  relationship_sat_rate BIGINT NULL,\n",
    "  work_life_balance FLOAT NULL,\n",
    "  num_comp_worked BIGINT NULL,\n",
    "  tot_working_year FLOAT NULL,\n",
    "PRIMARY KEY (employee_number))\"\"\");"
   ]
  },
  {
   "cell_type": "code",
   "execution_count": 61,
   "metadata": {},
   "outputs": [
    {
     "ename": "InterfaceError",
     "evalue": "Failed executing the operation; Python type numpy.int64 cannot be converted",
     "output_type": "error",
     "traceback": [
      "\u001b[1;31m---------------------------------------------------------------------------\u001b[0m",
      "\u001b[1;31mInterfaceError\u001b[0m                            Traceback (most recent call last)",
      "Cell \u001b[1;32mIn[61], line 1\u001b[0m\n\u001b[1;32m----> 1\u001b[0m mycursor\u001b[38;5;241m.\u001b[39mexecutemany(query, lista_de_tuplas) \n\u001b[0;32m      2\u001b[0m cnx\u001b[38;5;241m.\u001b[39mcommit()\n\u001b[0;32m      3\u001b[0m \u001b[38;5;28mprint\u001b[39m(\u001b[38;5;124m\"\u001b[39m\u001b[38;5;124mDatos insertados correctamente ✅.\u001b[39m\u001b[38;5;124m\"\u001b[39m)\n",
      "File \u001b[1;32mc:\\Users\\bmija\\anaconda3\\Lib\\site-packages\\mysql\\connector\\cursor_cext.py:466\u001b[0m, in \u001b[0;36mCMySQLCursor.executemany\u001b[1;34m(self, operation, seq_params)\u001b[0m\n\u001b[0;32m    464\u001b[0m     \u001b[38;5;28mself\u001b[39m\u001b[38;5;241m.\u001b[39m_rowcount \u001b[38;5;241m=\u001b[39m \u001b[38;5;241m0\u001b[39m\n\u001b[0;32m    465\u001b[0m     \u001b[38;5;28;01mreturn\u001b[39;00m \u001b[38;5;28;01mNone\u001b[39;00m\n\u001b[1;32m--> 466\u001b[0m stmt \u001b[38;5;241m=\u001b[39m \u001b[38;5;28mself\u001b[39m\u001b[38;5;241m.\u001b[39m_batch_insert(operation, seq_params)\n\u001b[0;32m    467\u001b[0m \u001b[38;5;28;01mif\u001b[39;00m stmt \u001b[38;5;129;01mis\u001b[39;00m \u001b[38;5;129;01mnot\u001b[39;00m \u001b[38;5;28;01mNone\u001b[39;00m:\n\u001b[0;32m    468\u001b[0m     \u001b[38;5;28mself\u001b[39m\u001b[38;5;241m.\u001b[39m_executed \u001b[38;5;241m=\u001b[39m stmt\n",
      "File \u001b[1;32mc:\\Users\\bmija\\anaconda3\\Lib\\site-packages\\mysql\\connector\\cursor_cext.py:420\u001b[0m, in \u001b[0;36mCMySQLCursor._batch_insert\u001b[1;34m(self, operation, seq_params)\u001b[0m\n\u001b[0;32m    418\u001b[0m     \u001b[38;5;28;01mraise\u001b[39;00m ProgrammingError(\u001b[38;5;28mstr\u001b[39m(err)) \u001b[38;5;28;01mfrom\u001b[39;00m \u001b[38;5;21;01merr\u001b[39;00m\n\u001b[0;32m    419\u001b[0m \u001b[38;5;28;01mexcept\u001b[39;00m \u001b[38;5;167;01mException\u001b[39;00m \u001b[38;5;28;01mas\u001b[39;00m err:\n\u001b[1;32m--> 420\u001b[0m     \u001b[38;5;28;01mraise\u001b[39;00m InterfaceError(\u001b[38;5;124mf\u001b[39m\u001b[38;5;124m\"\u001b[39m\u001b[38;5;124mFailed executing the operation; \u001b[39m\u001b[38;5;132;01m{\u001b[39;00merr\u001b[38;5;132;01m}\u001b[39;00m\u001b[38;5;124m\"\u001b[39m) \u001b[38;5;28;01mfrom\u001b[39;00m \u001b[38;5;28;01mNone\u001b[39;00m\n",
      "\u001b[1;31mInterfaceError\u001b[0m: Failed executing the operation; Python type numpy.int64 cannot be converted"
     ]
    }
   ],
   "source": [
    "mycursor.executemany(query, lista_de_tuplas) \n",
    "cnx.commit()\n",
    "print(\"Datos insertados correctamente ✅.\")\n",
    "print(mycursor.rowcount, \"registros insertados\")"
   ]
  },
  {
   "cell_type": "code",
   "execution_count": null,
   "metadata": {},
   "outputs": [],
   "source": []
  }
 ],
 "metadata": {
  "kernelspec": {
   "display_name": "base",
   "language": "python",
   "name": "python3"
  },
  "language_info": {
   "codemirror_mode": {
    "name": "ipython",
    "version": 3
   },
   "file_extension": ".py",
   "mimetype": "text/x-python",
   "name": "python",
   "nbconvert_exporter": "python",
   "pygments_lexer": "ipython3",
   "version": "3.12.7"
  }
 },
 "nbformat": 4,
 "nbformat_minor": 2
}
