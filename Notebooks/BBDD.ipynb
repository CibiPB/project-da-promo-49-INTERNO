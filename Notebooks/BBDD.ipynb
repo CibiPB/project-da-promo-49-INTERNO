{
 "cells": [
  {
   "cell_type": "code",
   "execution_count": 1,
   "metadata": {},
   "outputs": [],
   "source": [
    "import mysql.connector\n",
    "from mysql.connector import errorcode"
   ]
  },
  {
   "cell_type": "code",
   "execution_count": 2,
   "metadata": {},
   "outputs": [],
   "source": [
    "cnx = mysql.connector.connect(user='root', password='AlumnaAdalab',\n",
    "host='127.0.0.1',\n",
    "auth_plugin ='mysql_native_password')\n",
    "mycursor = cnx.cursor()"
   ]
  },
  {
   "cell_type": "code",
   "execution_count": 3,
   "metadata": {},
   "outputs": [],
   "source": [
    "mycursor.execute(\"CREATE DATABASE ABC_Corporation\")"
   ]
  },
  {
   "cell_type": "code",
   "execution_count": 4,
   "metadata": {},
   "outputs": [],
   "source": [
    "mycursor.execute(\"USE ABC_Corporation\")"
   ]
  },
  {
   "cell_type": "code",
   "execution_count": 6,
   "metadata": {},
   "outputs": [],
   "source": [
    "\n",
    "mycursor.execute(\"\"\"CREATE TABLE EmployeeInfo(\n",
    "  employee_number INT NOT NULL,\n",
    "  gender ENUM('M', 'F') NULL,\n",
    "  birth_year DATE NULL,\n",
    "  age FLOAT NULL,\n",
    "  marital_status ENUM('Single', 'Divorced', 'Married', 'Unknown') NULL,\n",
    "  dist_home INT NULL,\n",
    "  job_title VARCHAR(50) NULL,\n",
    "  department VARCHAR(50) NULL,\n",
    "  emp_terminated ENUM('Yes', 'No') NULL,\n",
    "  year_at_comp INT NULL,\n",
    "  standard_hours VARCHAR(45) NULL,\n",
    "  remote ENUM('Yes', 'No') NULL,\n",
    "  business_travel ENUM('Unknown', 'travel_rarely', 'travel_frequently', 'non-travel') NULL,\n",
    "  over_time ENUM('Yes', 'No', 'Unknown') NULL,\n",
    "  job_level INT NULL,\n",
    "  stock_opt_level INT NULL,\n",
    "  traning_times_last_year INT NULL,\n",
    "  perf_rate VARCHAR(45) NULL,\n",
    "  year_last_promotion INT NULL,\n",
    "  year_current_mngr INT NULL,\n",
    "  education_field VARCHAR(45) NULL,\n",
    "  education_scale INT NULL,\n",
    "  annual_salary FLOAT NOT NULL,\n",
    "  monthly_income FLOAT NULL,\n",
    "  daily_rate FLOAT NULL,\n",
    "  monthly_rate VARCHAR(45) NULL,\n",
    "  perc_salary_hike INT NULL,\n",
    "  env_sat_rate INT NULL,\n",
    "  job_involvement INT NULL,\n",
    "  job_sat_rate INT NULL,\n",
    "  relationship_sat_rate INT NULL,\n",
    "  work_life_balance FLOAT NULL,\n",
    "  num_comp_worked INT NULL,\n",
    "  tot_working_year FLOAT NULL,\n",
    "PRIMARY KEY (employee_number))\"\"\");\n",
    "\n"
   ]
  }
 ],
 "metadata": {
  "kernelspec": {
   "display_name": "base",
   "language": "python",
   "name": "python3"
  },
  "language_info": {
   "codemirror_mode": {
    "name": "ipython",
    "version": 3
   },
   "file_extension": ".py",
   "mimetype": "text/x-python",
   "name": "python",
   "nbconvert_exporter": "python",
   "pygments_lexer": "ipython3",
   "version": "3.12.7"
  }
 },
 "nbformat": 4,
 "nbformat_minor": 2
}
