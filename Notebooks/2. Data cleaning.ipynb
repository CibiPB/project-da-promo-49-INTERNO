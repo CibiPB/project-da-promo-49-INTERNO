{
 "cells": [
  {
   "cell_type": "markdown",
   "metadata": {},
   "source": [
    "## 1. ACCESSING DATA"
   ]
  },
  {
   "cell_type": "code",
   "execution_count": 1,
   "metadata": {},
   "outputs": [],
   "source": [
    "import pandas as pd\n",
    "import numpy as np\n",
    "import re\n",
    "import seaborn as sns\n",
    "import matplotlib.pyplot as plt\n",
    "from sklearn.impute import KNNImputer\n",
    "\n",
    "\n",
    "\n",
    "#pd.set_option('display.max_rows', None)\n",
    "pd.set_option('display.max_columns', None)\n"
   ]
  },
  {
   "cell_type": "code",
   "execution_count": 2,
   "metadata": {},
   "outputs": [],
   "source": [
    "df = pd.read_csv('hr_raw_data_v1.csv')"
   ]
  },
  {
   "cell_type": "code",
   "execution_count": 3,
   "metadata": {},
   "outputs": [
    {
     "data": {
      "text/html": [
       "<div>\n",
       "<style scoped>\n",
       "    .dataframe tbody tr th:only-of-type {\n",
       "        vertical-align: middle;\n",
       "    }\n",
       "\n",
       "    .dataframe tbody tr th {\n",
       "        vertical-align: top;\n",
       "    }\n",
       "\n",
       "    .dataframe thead th {\n",
       "        text-align: right;\n",
       "    }\n",
       "</style>\n",
       "<table border=\"1\" class=\"dataframe\">\n",
       "  <thead>\n",
       "    <tr style=\"text-align: right;\">\n",
       "      <th></th>\n",
       "      <th>employee_number</th>\n",
       "      <th>gender</th>\n",
       "      <th>birth_year</th>\n",
       "      <th>age</th>\n",
       "      <th>marital_status</th>\n",
       "      <th>dist_home</th>\n",
       "      <th>job_title</th>\n",
       "      <th>department</th>\n",
       "      <th>terminated</th>\n",
       "      <th>year_at_comp</th>\n",
       "      <th>year_current_role</th>\n",
       "      <th>standard_hours</th>\n",
       "      <th>remote</th>\n",
       "      <th>business_travel</th>\n",
       "      <th>over_time</th>\n",
       "      <th>job_level</th>\n",
       "      <th>stock_opt_level</th>\n",
       "      <th>traning_times_last_year</th>\n",
       "      <th>perf_rate</th>\n",
       "      <th>year_last_promotion</th>\n",
       "      <th>year_current_mngr</th>\n",
       "      <th>education_field</th>\n",
       "      <th>education_scale</th>\n",
       "      <th>annual_salary</th>\n",
       "      <th>monthly_income</th>\n",
       "      <th>daily_rate</th>\n",
       "      <th>hourly_rate</th>\n",
       "      <th>monthly_rate</th>\n",
       "      <th>perc_salary_hike</th>\n",
       "      <th>env_sat_rate</th>\n",
       "      <th>job_involvement</th>\n",
       "      <th>job_sat_rate</th>\n",
       "      <th>relationship_sat_rate</th>\n",
       "      <th>work_life_balance</th>\n",
       "      <th>num_comp_worked</th>\n",
       "      <th>tot_working_year</th>\n",
       "    </tr>\n",
       "  </thead>\n",
       "  <tbody>\n",
       "    <tr>\n",
       "      <th>0</th>\n",
       "      <td>1</td>\n",
       "      <td>0</td>\n",
       "      <td>1972</td>\n",
       "      <td>51</td>\n",
       "      <td>NaN</td>\n",
       "      <td>6</td>\n",
       "      <td>resEArch DIREcToR</td>\n",
       "      <td>NaN</td>\n",
       "      <td>No</td>\n",
       "      <td>20</td>\n",
       "      <td>NaN</td>\n",
       "      <td>Full Time</td>\n",
       "      <td>Yes</td>\n",
       "      <td>NaN</td>\n",
       "      <td>No</td>\n",
       "      <td>5</td>\n",
       "      <td>0</td>\n",
       "      <td>5</td>\n",
       "      <td>3,0</td>\n",
       "      <td>15</td>\n",
       "      <td>15</td>\n",
       "      <td>NaN</td>\n",
       "      <td>3</td>\n",
       "      <td>195370,00$</td>\n",
       "      <td>16280,83$</td>\n",
       "      <td>2015.722222</td>\n",
       "      <td>NaN</td>\n",
       "      <td>42330,17$</td>\n",
       "      <td>13</td>\n",
       "      <td>1</td>\n",
       "      <td>3</td>\n",
       "      <td>3</td>\n",
       "      <td>3</td>\n",
       "      <td>3,0</td>\n",
       "      <td>7</td>\n",
       "      <td>NaN</td>\n",
       "    </tr>\n",
       "  </tbody>\n",
       "</table>\n",
       "</div>"
      ],
      "text/plain": [
       "   employee_number  gender  birth_year age marital_status  dist_home  \\\n",
       "0                1       0        1972  51            NaN          6   \n",
       "\n",
       "             job_title department terminated  year_at_comp year_current_role  \\\n",
       "0   resEArch DIREcToR         NaN         No            20               NaN   \n",
       "\n",
       "  standard_hours remote business_travel over_time  job_level  stock_opt_level  \\\n",
       "0      Full Time    Yes             NaN        No          5                0   \n",
       "\n",
       "   traning_times_last_year perf_rate  year_last_promotion  year_current_mngr  \\\n",
       "0                        5       3,0                   15                 15   \n",
       "\n",
       "  education_field  education_scale annual_salary monthly_income   daily_rate  \\\n",
       "0             NaN                3    195370,00$      16280,83$  2015.722222   \n",
       "\n",
       "   hourly_rate monthly_rate  perc_salary_hike  env_sat_rate  job_involvement  \\\n",
       "0          NaN    42330,17$                13             1                3   \n",
       "\n",
       "   job_sat_rate  relationship_sat_rate work_life_balance  num_comp_worked  \\\n",
       "0             3                      3               3,0                7   \n",
       "\n",
       "  tot_working_year  \n",
       "0              NaN  "
      ]
     },
     "execution_count": 3,
     "metadata": {},
     "output_type": "execute_result"
    }
   ],
   "source": [
    "df.head(1)\n"
   ]
  },
  {
   "cell_type": "markdown",
   "metadata": {},
   "source": [
    "## 2. DATA CLEANING"
   ]
  },
  {
   "cell_type": "code",
   "execution_count": 4,
   "metadata": {},
   "outputs": [],
   "source": [
    "# Values format to title and strip\n",
    "\n",
    "to_title = ['marital_status', 'job_title',  'department', 'education_field']\n",
    "\n",
    "df[to_title] = df[to_title].apply(lambda x: x.str.title().str.strip() if x.dtype == 'object' else x)"
   ]
  },
  {
   "cell_type": "code",
   "execution_count": 5,
   "metadata": {},
   "outputs": [],
   "source": [
    "# Marital status typos fixing\n",
    "\n",
    "df[\"marital_status\"]=df[\"marital_status\"].replace(\"Marreid\", \"Married\")"
   ]
  },
  {
   "cell_type": "code",
   "execution_count": 6,
   "metadata": {},
   "outputs": [],
   "source": [
    "# Converting obj to float\n",
    "\n",
    "convert_float = ['annual_salary','monthly_income','daily_rate']\n",
    "def replace_currency(value):\n",
    "        try:\n",
    "                value = float(value.replace(\"$\", \"\").replace(\",\", \".\"))\n",
    "                return value\n",
    "        except:\n",
    "            return value\n",
    "\n",
    "\n",
    "\n",
    "for col in convert_float:\n",
    "     df[col]=df[col].apply(replace_currency)"
   ]
  },
  {
   "cell_type": "code",
   "execution_count": 7,
   "metadata": {},
   "outputs": [],
   "source": [
    "# Replacing values obj to numeric in age\n",
    "\n",
    "age_update = {\n",
    "    'thirty-two': 32,\n",
    "    'twenty-four': 24,\n",
    "    'thirty': 30,\n",
    "    'fifty-eight': 58,\n",
    "    'fifty-two': 52,\n",
    "    'twenty-six': 26,\n",
    "    'fifty-five': 55,\n",
    "    'thirty-seven': 37,\n",
    "    'thirty-six': 36,\n",
    "    'forty-seven': 47,\n",
    "    'thirty-one': 31}\n",
    "\n",
    "df['age'] = df['age'].replace(age_update)"
   ]
  },
  {
   "cell_type": "code",
   "execution_count": 8,
   "metadata": {},
   "outputs": [
    {
     "data": {
      "text/plain": [
       "array(['M', 'F'], dtype=object)"
      ]
     },
     "execution_count": 8,
     "metadata": {},
     "output_type": "execute_result"
    }
   ],
   "source": [
    "# Gender update, where 0 is male and 1 is female\n",
    "gender_map = {0: \"M\", 1:\"F\"}\n",
    "df['gender'] = df['gender'].map(gender_map)\n",
    "\n",
    "df['gender'].unique()"
   ]
  },
  {
   "cell_type": "markdown",
   "metadata": {},
   "source": [
    "## 3. NULLS MANAGEMENT"
   ]
  },
  {
   "cell_type": "code",
   "execution_count": 9,
   "metadata": {},
   "outputs": [],
   "source": [
    "# RELATED SALARY COLUMNS IMPUTATION\n",
    "\n",
    "salary_base =['monthly_income', 'daily_rate', 'annual_salary']\n",
    "\n",
    "imputer = KNNImputer(n_neighbors=3)\n",
    "df[salary_base] = imputer.fit_transform(df[salary_base])"
   ]
  },
  {
   "cell_type": "code",
   "execution_count": 10,
   "metadata": {},
   "outputs": [
    {
     "data": {
      "text/plain": [
       "monthly_income    0\n",
       "daily_rate        0\n",
       "annual_salary     0\n",
       "dtype: int64"
      ]
     },
     "execution_count": 10,
     "metadata": {},
     "output_type": "execute_result"
    }
   ],
   "source": [
    "# CONFIRMATION: RELATED SALARY COLUMNS IMPUTATION \n",
    "df[salary_base].isnull().sum()"
   ]
  },
  {
   "cell_type": "code",
   "execution_count": 11,
   "metadata": {},
   "outputs": [
    {
     "data": {
      "text/plain": [
       "array(['Yes', '1', 'False', '0', 'True'], dtype=object)"
      ]
     },
     "execution_count": 11,
     "metadata": {},
     "output_type": "execute_result"
    }
   ],
   "source": [
    "df['remote'].unique()"
   ]
  },
  {
   "cell_type": "code",
   "execution_count": 12,
   "metadata": {},
   "outputs": [],
   "source": [
    "# REMOTE WORKER HOMOGENIZATION\n",
    "\n",
    "\n",
    "remote_update = {'True':'Yes',\n",
    "                 '1': 'Yes',\n",
    "                'False': 'No',\n",
    "                '0': 'No'}\n",
    "\n",
    "df['remote'] = df['remote'].replace(remote_update )"
   ]
  },
  {
   "cell_type": "code",
   "execution_count": 13,
   "metadata": {},
   "outputs": [],
   "source": [
    "departments_dict =  {\"Research & Development\": [\"Healthcare Representative\", \"Laboratory Technician\", \"Manufacturing Director\", \"Research Scientist\", \"Research Director\"],\n",
    "                    \"Sales\": [\"Sales Executive\", \"Sales Representative\"],\n",
    "                    \"Human Resources\": [\"Human Resources\"]}\n",
    "\n",
    "df['department'] = df['department'].fillna(df['job_title'].map(departments_dict))\n",
    "\n"
   ]
  },
  {
   "cell_type": "code",
   "execution_count": 14,
   "metadata": {},
   "outputs": [],
   "source": [
    "departments_dict = {\n",
    "    \"Research & Development\": [\"Healthcare Representative\", \"Laboratory Technician\", \"Manufacturing Director\", \"Research Scientist\", \"Research Director\"],\n",
    "    \"Sales\": [\"Sales Executive\", \"Sales Representative\"],\n",
    "    \"Human Resources\": [\"Human Resources\"]\n",
    "}\n",
    "\n",
    "# Reverse the dictionary to map job titles to departments\n",
    "job_to_department = {job: dept for dept, jobs in departments_dict.items() for job in jobs}\n",
    "\n",
    "\n",
    "def map_department(job_title):\n",
    "    try:\n",
    "        return job_to_department[job_title]\n",
    "    except:\n",
    "        return None \n",
    "\n",
    "# Apply the function to fill missing department values\n",
    "df['department'] = df['department'].fillna(df['job_title'].apply(map_department))\n",
    "\n"
   ]
  },
  {
   "cell_type": "code",
   "execution_count": 15,
   "metadata": {},
   "outputs": [
    {
     "data": {
      "text/plain": [
       "95"
      ]
     },
     "execution_count": 15,
     "metadata": {},
     "output_type": "execute_result"
    }
   ],
   "source": [
    "df['department'].isna().sum()"
   ]
  },
  {
   "cell_type": "markdown",
   "metadata": {},
   "source": [
    "## EXPORTING NEW DATA"
   ]
  },
  {
   "cell_type": "code",
   "execution_count": 16,
   "metadata": {},
   "outputs": [],
   "source": [
    "df.to_csv(\"hr_raw_data_v2.csv\", index=False)\n"
   ]
  }
 ],
 "metadata": {
  "kernelspec": {
   "display_name": "base",
   "language": "python",
   "name": "python3"
  },
  "language_info": {
   "codemirror_mode": {
    "name": "ipython",
    "version": 3
   },
   "file_extension": ".py",
   "mimetype": "text/x-python",
   "name": "python",
   "nbconvert_exporter": "python",
   "pygments_lexer": "ipython3",
   "version": "3.12.7"
  }
 },
 "nbformat": 4,
 "nbformat_minor": 2
}
