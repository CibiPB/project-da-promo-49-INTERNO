{
 "cells": [
  {
   "cell_type": "markdown",
   "metadata": {},
   "source": [
    "#### IMPORTS"
   ]
  },
  {
   "cell_type": "code",
   "execution_count": null,
   "metadata": {},
   "outputs": [],
   "source": [
    "import pandas as pd\n",
    "import numpy as np\n",
    "import re\n",
    "\n",
    "\n",
    "#pd.set_option('display.max_rows', None)\n",
    "pd.set_option('display.max_columns', None)\n",
    "\n",
    "df = pd.read_csv('../files/hr_raw_data.csv', index_col=0)\n"
   ]
  },
  {
   "cell_type": "markdown",
   "metadata": {},
   "source": [
    "#### VARIABLES AND FUNCCIONS"
   ]
  },
  {
   "cell_type": "code",
   "execution_count": null,
   "metadata": {},
   "outputs": [],
   "source": [
    "#COLUMN RENAMES:\n",
    "\n",
    "title_mapping = {\"employeenumber\": \"employee_number\",\n",
    "                \"gender\": \"gender\",\n",
    "                \"datebirth\": \"birth_year\",\n",
    "                \"age\": \"age\",\n",
    "                \"maritalstatus\": \"marital_status\",\n",
    "                \"jobrole\": \"job_title\",\n",
    "                \"department\": \"department\",\n",
    "                \"attrition\": \"terminated\",\n",
    "                \"standardhours\": \"standard_hours\",\n",
    "                \"monthlyincome\": \"monthly_income\",\n",
    "                \"remotework\": \"remote\",\n",
    "                \"businesstravel\": \"business_travel\",\n",
    "                \"dailyrate\": \"daily_rate\",\n",
    "                \"distancefromhome\": \"dist_home\",\n",
    "                \"education\": \"education_scale\",\n",
    "                \"educationfield\": \"education\",\n",
    "                \"environmentsatisfaction\": \"env_sat_rate\",\n",
    "                \"hourlyrate\": \"hourly_rate\",\n",
    "                \"jobinvolvement\": \"job_involvement\",\n",
    "                \"joblevel\": \"job_level\",\n",
    "                \"jobsatisfaction\": \"job_sat_rate\",\n",
    "                \"monthlyrate\": \"monthly_rate\",\n",
    "                \"numcompaniesworked\": \"num_comp_worked\",\n",
    "                \"overtime\": \"over_time\",\n",
    "                \"percentsalaryhike\": \"perc_salary_hike\",\n",
    "                \"performancerating\": \"perf_rate\",\n",
    "                \"relationshipsatisfaction\": \"relationship_sat_rate\",\n",
    "                \"stockoptionlevel\": \"stock_opt_level\",\n",
    "                \"totalworkingyears\": \"tot_working_year\",\n",
    "                \"trainingtimeslastyear\": \"traning_times_last_year\",\n",
    "                \"worklifebalance\": \"work_life_balance\",\n",
    "                \"yearsatcompany\": \"year_at_comp\",\n",
    "                \"yearsincurrentrole\": \"year_current_role\",\n",
    "                \"yearssincelastpromotion\": \"year_last_promotion\",\n",
    "                \"yearswithcurrmanager\": \"year_current_mngr\",\n",
    "                \"salary\": \"annual_salary\",\n",
    "                \"roledepartament\": \"role_department\"}\n",
    "\n",
    "#CATEGORIES: \n",
    "\n",
    "columns_personal =  ['employee_number', \n",
    "                    'gender', \n",
    "                    'birth_year', \n",
    "                    'age', \n",
    "                    'marital_status',\n",
    "                    'dist_home']\n",
    "\n",
    "columns_job =   ['job_title',\n",
    "                 'role_1',\n",
    "                 'department_1',\n",
    "                'department',\n",
    "                'terminated',\n",
    "                'year_at_comp',\n",
    "                'year_current_role',\n",
    "                'standard_hours',\n",
    "                'remote',\n",
    "                'business_travel',\n",
    "                'over_time', \n",
    "                'job_level', \n",
    "                'stock_opt_level', \n",
    "                'traning_times_last_year', \n",
    "                'perf_rate',\n",
    "                'year_last_promotion',\n",
    "                'year_current_mngr']\n",
    "\n",
    "columns_education = ['education',\n",
    "                    'education_scale']\n",
    "\n",
    "\n",
    "columns_income =    ['annual_salary',\n",
    "                    'monthly_income',\n",
    "                    'daily_rate',\n",
    "                    'hourly_rate',\n",
    "                    'monthly_rate',\n",
    "                    'perc_salary_hike']\n",
    "\n",
    "columns_satisfaction =  ['env_sat_rate',\n",
    "                        'job_involvement',\n",
    "                        'job_sat_rate',\n",
    "                        'relationship_sat_rate',\n",
    "                        'work_life_balance']\n",
    "\n",
    "columns_emp_bgd =   ['num_comp_worked',\n",
    "                    'tot_working_year']\n",
    "\n",
    "\n",
    "#COLUMN REORDER:\n",
    "\n",
    "new_order_columns = columns_personal+columns_job+columns_education+columns_income+columns_satisfaction+columns_emp_bgd\n",
    "\n",
    "def reorder_columns(df, list_columns):\n",
    "\n",
    "    #Reorder columns as per provided list, add all the missing ones at the end.\n",
    "    \n",
    "    try:\n",
    "        df = df[new_order_columns]\n",
    "        extra_columns = [col for col in df.columns if col not in new_order_columns]\n",
    "        df = df[ new_order_columns + extra_columns ]\n",
    "    \n",
    "    except KeyError as e:\n",
    "        print(f\"KeyError: {e}\")\n",
    "        missing_columns = [col for col in new_order_columns if col not in df.columns]\n",
    "        print(f\"Missing columns: {missing_columns}\")\n",
    "\n",
    "        extra_columns = [col for col in df.columns if col not in new_order_columns]\n",
    "        df = df[ new_order_columns + extra_columns ]\n",
    "    \n",
    "    return df\n",
    "\n",
    "\n",
    "#DATA ANALYSIS\n",
    "\n",
    "def data_analysis (dataframe, columns):\n",
    "\n",
    "    print('📌CATEGORY ANALYSIS:\\n')\n",
    "    display(df[columns_personal].describe().T)\n",
    "    print('\\n')\n",
    "\n",
    "    for col in columns:\n",
    "        \n",
    "        print(f'📌Columna: {col.upper()} \\n')\n",
    "        print('Null counter:', dataframe[col].isnull().sum(), '\\n')\n",
    "        print('These are the unique values:', dataframe[col].unique(),'\\n')\n",
    "        print('These are values counter:', dataframe[col].value_counts(dropna=False),'\\n')\n",
    "        print('-------------')\n"
   ]
  },
  {
   "cell_type": "markdown",
   "metadata": {},
   "source": [
    "#### STRUCTURE CLEANING"
   ]
  },
  {
   "cell_type": "code",
   "execution_count": null,
   "metadata": {},
   "outputs": [],
   "source": [
    "#Splitting column \"roledepartament\"\n",
    "# df[[\"role_1\", \"department_1\"]]=df[\"roledepartament\"].str.split(\"-\", expand=True).get([0, 1])"
   ]
  },
  {
   "cell_type": "code",
   "execution_count": null,
   "metadata": {},
   "outputs": [],
   "source": [
    "#RENAME\n",
    "df = df.rename(columns=title_mapping)"
   ]
  },
  {
   "cell_type": "code",
   "execution_count": null,
   "metadata": {},
   "outputs": [],
   "source": [
    "#REORDER\n",
    "df = reorder_columns(df, new_order_columns)"
   ]
  },
  {
   "cell_type": "code",
   "execution_count": null,
   "metadata": {},
   "outputs": [],
   "source": [
    "df.head()"
   ]
  },
  {
   "cell_type": "code",
   "execution_count": null,
   "metadata": {},
   "outputs": [],
   "source": [
    "# Title and strip values\n",
    "\n",
    "to_title = ['marital_status', 'job_title', 'role_1', 'department_1', 'education']\n",
    "\n",
    "df[to_title] = df[to_title].apply(lambda x: x.str.title().str.strip() if x.dtype == 'object' else x)"
   ]
  },
  {
   "cell_type": "code",
   "execution_count": null,
   "metadata": {},
   "outputs": [],
   "source": [
    "# Update 0/1 from Genger to M/F\n",
    "\n",
    "gender_map = {0: \"M\", 1:\"F\"}\n",
    "df['gender'] = df['gender'].map(gender_map)"
   ]
  },
  {
   "cell_type": "code",
   "execution_count": null,
   "metadata": {},
   "outputs": [],
   "source": [
    "# Replacing values obj to numeric in age\n",
    "\n",
    "age_update = {\n",
    "    'thirty-two': 32,\n",
    "    'twenty-four': 24,\n",
    "    'thirty': 30,\n",
    "    'fifty-eight': 58,\n",
    "    'fifty-two': 52,\n",
    "    'twenty-six': 26,\n",
    "    'fifty-five': 55,\n",
    "    'thirty-seven': 37,\n",
    "    'thirty-six': 36,\n",
    "    'forty-seven': 47,\n",
    "    'thirty-one': 31}\n",
    "\n",
    "df['age'] = df['age'].replace(age_update)\n"
   ]
  },
  {
   "cell_type": "code",
   "execution_count": null,
   "metadata": {},
   "outputs": [],
   "source": [
    "def convert_to_float(df, value):\n",
    "    try:\n",
    "        value = value.replace(\",\", \".\")\n",
    "        value = value.replace(\"$\", \"\")\n",
    "        return float(value)\n",
    "    \n",
    "    except: return value\n",
    "    "
   ]
  },
  {
   "cell_type": "code",
   "execution_count": 3,
   "metadata": {},
   "outputs": [
    {
     "ename": "NameError",
     "evalue": "name 'df' is not defined",
     "output_type": "error",
     "traceback": [
      "\u001b[1;31m---------------------------------------------------------------------------\u001b[0m",
      "\u001b[1;31mNameError\u001b[0m                                 Traceback (most recent call last)",
      "Cell \u001b[1;32mIn[3], line 2\u001b[0m\n\u001b[0;32m      1\u001b[0m to_floats \u001b[38;5;241m=\u001b[39m [\u001b[38;5;124m'\u001b[39m\u001b[38;5;124mannual_salary\u001b[39m\u001b[38;5;124m'\u001b[39m, \u001b[38;5;124m'\u001b[39m\u001b[38;5;124mmonthly_income\u001b[39m\u001b[38;5;124m'\u001b[39m, \u001b[38;5;124m'\u001b[39m\u001b[38;5;124mdaily_rate\u001b[39m\u001b[38;5;124m'\u001b[39m,\u001b[38;5;124m'\u001b[39m\u001b[38;5;124mhourly_rate\u001b[39m\u001b[38;5;124m'\u001b[39m]\n\u001b[1;32m----> 2\u001b[0m df[to_floats] \u001b[38;5;241m=\u001b[39m df[to_floats]\u001b[38;5;241m.\u001b[39mapply(convert_to_float)\n",
      "\u001b[1;31mNameError\u001b[0m: name 'df' is not defined"
     ]
    }
   ],
   "source": [
    "to_floats = ['annual_salary', 'monthly_income', 'daily_rate','hourly_rate']\n",
    "df[to_floats] = df[to_floats].apply(convert_to_float)\n",
    "\n",
    "\n"
   ]
  },
  {
   "cell_type": "markdown",
   "metadata": {},
   "source": [
    "#### DATA ANALYSYS"
   ]
  },
  {
   "cell_type": "markdown",
   "metadata": {},
   "source": [
    "##### PERSONAL COLUMNS"
   ]
  },
  {
   "cell_type": "code",
   "execution_count": null,
   "metadata": {},
   "outputs": [],
   "source": [
    "data_analysis(df, columns_personal)"
   ]
  },
  {
   "cell_type": "markdown",
   "metadata": {},
   "source": [
    "##### JOB COLUMNS"
   ]
  },
  {
   "cell_type": "code",
   "execution_count": null,
   "metadata": {},
   "outputs": [],
   "source": [
    "data_analysis(df, columns_job)"
   ]
  },
  {
   "cell_type": "markdown",
   "metadata": {},
   "source": [
    "##### INCOME COLUMNS"
   ]
  },
  {
   "cell_type": "code",
   "execution_count": null,
   "metadata": {},
   "outputs": [],
   "source": [
    "data_analysis(df, columns_income)"
   ]
  },
  {
   "cell_type": "markdown",
   "metadata": {},
   "source": [
    "##### EDUCATION COLUMNS"
   ]
  },
  {
   "cell_type": "code",
   "execution_count": null,
   "metadata": {},
   "outputs": [],
   "source": [
    "data_analysis(df,columns_education)"
   ]
  },
  {
   "cell_type": "markdown",
   "metadata": {},
   "source": [
    "##### SATISFACTION COLUMNS"
   ]
  },
  {
   "cell_type": "code",
   "execution_count": null,
   "metadata": {},
   "outputs": [],
   "source": [
    "data_analysis(df,columns_satisfaction)"
   ]
  },
  {
   "cell_type": "markdown",
   "metadata": {},
   "source": [
    "##### EMPLOYEMENT BACKGROUND COLUMNS"
   ]
  },
  {
   "cell_type": "code",
   "execution_count": null,
   "metadata": {},
   "outputs": [],
   "source": [
    "data_analysis(df, columns_emp_bgd)"
   ]
  },
  {
   "cell_type": "code",
   "execution_count": null,
   "metadata": {},
   "outputs": [],
   "source": [
    "df.head()"
   ]
  },
  {
   "cell_type": "code",
   "execution_count": null,
   "metadata": {},
   "outputs": [],
   "source": []
  }
 ],
 "metadata": {
  "kernelspec": {
   "display_name": "base",
   "language": "python",
   "name": "python3"
  },
  "language_info": {
   "codemirror_mode": {
    "name": "ipython",
    "version": 3
   },
   "file_extension": ".py",
   "mimetype": "text/x-python",
   "name": "python",
   "nbconvert_exporter": "python",
   "pygments_lexer": "ipython3",
   "version": "3.12.7"
  }
 },
 "nbformat": 4,
 "nbformat_minor": 2
}
